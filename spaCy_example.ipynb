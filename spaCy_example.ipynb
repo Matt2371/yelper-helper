{
 "cells": [
  {
   "cell_type": "markdown",
   "metadata": {},
   "source": [
    "# SpaCy Example "
   ]
  },
  {
   "cell_type": "code",
   "execution_count": 1,
   "metadata": {},
   "outputs": [],
   "source": [
    "import torch\n",
    "import torch.nn as nn\n",
    "from torch.nn.utils.rnn import pad_sequence\n",
    "import torch.optim as optim\n",
    "import matplotlib.pyplot as plt\n",
    "import numpy as np\n",
    "import pandas as pd\n",
    "from gensim.models import KeyedVectors\n",
    "import gensim.downloader as api\n",
    "from tqdm import tqdm\n",
    "from src.data_processing.process_labels import *\n",
    "from src.data_processing.process_reviews import *"
   ]
  },
  {
   "cell_type": "markdown",
   "metadata": {},
   "source": [
    "## Data processing"
   ]
  },
  {
   "cell_type": "markdown",
   "metadata": {},
   "source": [
    "### Import data"
   ]
  },
  {
   "cell_type": "code",
   "execution_count": 2,
   "metadata": {},
   "outputs": [],
   "source": [
    "# Read data\n",
    "df = pd.read_csv('data/raw_reviews/reviews_v1.csv')"
   ]
  },
  {
   "cell_type": "code",
   "execution_count": 3,
   "metadata": {},
   "outputs": [],
   "source": [
    "# Separate reviews and labels\n",
    "reviews = df.text\n",
    "food_labels = df.food\n",
    "service_labels = df.service"
   ]
  },
  {
   "cell_type": "markdown",
   "metadata": {},
   "source": [
    "### Import spaCy and loading the english pipeline"
   ]
  },
  {
   "cell_type": "code",
   "execution_count": 4,
   "metadata": {},
   "outputs": [
    {
     "name": "stderr",
     "output_type": "stream",
     "text": [
      "2023-09-08 02:00:28.100603: I tensorflow/core/platform/cpu_feature_guard.cc:182] This TensorFlow binary is optimized to use available CPU instructions in performance-critical operations.\n",
      "To enable the following instructions: AVX2 FMA, in other operations, rebuild TensorFlow with the appropriate compiler flags.\n"
     ]
    }
   ],
   "source": [
    "# import spaCy and load the english pipeline\n",
    "import spacy\n",
    "nlp = spacy.load('en_core_web_sm')"
   ]
  },
  {
   "cell_type": "code",
   "execution_count": 5,
   "metadata": {},
   "outputs": [
    {
     "data": {
      "text/plain": [
       "'Food was very good, service quick and pleasant.  The place was airy and clean.  I would highly recommend this place. Great atmosphere'"
      ]
     },
     "execution_count": 5,
     "metadata": {},
     "output_type": "execute_result"
    }
   ],
   "source": [
    "# Use a single sentence as example\n",
    "sentence = reviews[0]\n",
    "sentence"
   ]
  },
  {
   "cell_type": "code",
   "execution_count": 6,
   "metadata": {},
   "outputs": [
    {
     "data": {
      "text/plain": [
       "spacy.tokens.doc.Doc"
      ]
     },
     "execution_count": 6,
     "metadata": {},
     "output_type": "execute_result"
    }
   ],
   "source": [
    "doc = nlp(sentence)\n",
    "type(doc)"
   ]
  },
  {
   "cell_type": "code",
   "execution_count": 7,
   "metadata": {},
   "outputs": [
    {
     "data": {
      "text/plain": [
       "Food was very good, service quick and pleasant.  The place was airy and clean.  I would highly recommend this place. Great atmosphere"
      ]
     },
     "execution_count": 7,
     "metadata": {},
     "output_type": "execute_result"
    }
   ],
   "source": [
    "doc"
   ]
  },
  {
   "cell_type": "code",
   "execution_count": 8,
   "metadata": {},
   "outputs": [
    {
     "name": "stdout",
     "output_type": "stream",
     "text": [
      "pleasant \n",
      "Type: <class 'spacy.tokens.token.Token'>\n"
     ]
    }
   ],
   "source": [
    "# Examine the tokens\n",
    "index = 8\n",
    "print(doc[index], f\"\\nType: {type(doc[index])}\")"
   ]
  },
  {
   "cell_type": "code",
   "execution_count": 9,
   "metadata": {},
   "outputs": [
    {
     "name": "stdout",
     "output_type": "stream",
     "text": [
      "Food\n",
      "good\n",
      ",\n",
      "service\n",
      "quick\n",
      "pleasant\n",
      ".\n",
      " \n",
      "place\n",
      "airy\n",
      "clean\n",
      ".\n",
      " \n",
      "highly\n",
      "recommend\n",
      "place\n",
      ".\n",
      "Great\n",
      "atmosphere\n"
     ]
    }
   ],
   "source": [
    "# Removing stop words \n",
    "for token in doc:\n",
    "    if not token.is_stop:\n",
    "        print(token)"
   ]
  },
  {
   "cell_type": "code",
   "execution_count": 10,
   "metadata": {},
   "outputs": [
    {
     "data": {
      "text/plain": [
       "[Food,\n",
       " good,\n",
       " ,,\n",
       " service,\n",
       " quick,\n",
       " pleasant,\n",
       " .,\n",
       "  ,\n",
       " place,\n",
       " airy,\n",
       " clean,\n",
       " .,\n",
       "  ,\n",
       " highly,\n",
       " recommend,\n",
       " place,\n",
       " .,\n",
       " Great,\n",
       " atmosphere]"
      ]
     },
     "execution_count": 10,
     "metadata": {},
     "output_type": "execute_result"
    }
   ],
   "source": [
    "# remove stop words using list comprehension\n",
    "trimmed_sentence = [token for token in doc if not token.is_stop]\n",
    "trimmed_sentence"
   ]
  },
  {
   "cell_type": "code",
   "execution_count": 11,
   "metadata": {},
   "outputs": [
    {
     "data": {
      "text/plain": [
       "[Food,\n",
       " was,\n",
       " very,\n",
       " good,\n",
       " service,\n",
       " quick,\n",
       " and,\n",
       " pleasant,\n",
       "  ,\n",
       " The,\n",
       " place,\n",
       " was,\n",
       " airy,\n",
       " and,\n",
       " clean,\n",
       "  ,\n",
       " I,\n",
       " would,\n",
       " highly,\n",
       " recommend,\n",
       " this,\n",
       " place,\n",
       " Great,\n",
       " atmosphere]"
      ]
     },
     "execution_count": 11,
     "metadata": {},
     "output_type": "execute_result"
    }
   ],
   "source": [
    "# remove punctuation\n",
    "trimmed_sentence2 = [token for token in doc if not token.is_punct]\n",
    "trimmed_sentence2"
   ]
  },
  {
   "cell_type": "code",
   "execution_count": 12,
   "metadata": {},
   "outputs": [
    {
     "data": {
      "text/plain": [
       "[Food,\n",
       " good,\n",
       " service,\n",
       " quick,\n",
       " pleasant,\n",
       " place,\n",
       " airy,\n",
       " clean,\n",
       " highly,\n",
       " recommend,\n",
       " place,\n",
       " Great,\n",
       " atmosphere]"
      ]
     },
     "execution_count": 12,
     "metadata": {},
     "output_type": "execute_result"
    }
   ],
   "source": [
    "# remove both punctuation and stop words and additional white space\n",
    "# this returns a list of token obj\n",
    "clean_sentence = [token for token in doc if not token.is_punct and not token.is_stop and not token.is_space]\n",
    "clean_sentence"
   ]
  },
  {
   "cell_type": "code",
   "execution_count": 13,
   "metadata": {},
   "outputs": [
    {
     "data": {
      "text/plain": [
       "['Food',\n",
       " 'good',\n",
       " 'service',\n",
       " 'quick',\n",
       " 'pleasant',\n",
       " 'place',\n",
       " 'airy',\n",
       " 'clean',\n",
       " 'highly',\n",
       " 'recommend',\n",
       " 'place',\n",
       " 'Great',\n",
       " 'atmosphere']"
      ]
     },
     "execution_count": 13,
     "metadata": {},
     "output_type": "execute_result"
    }
   ],
   "source": [
    "# This returns a list of str\n",
    "clean_review = [token.text for token in doc if not token.is_punct and not token.is_stop and not token.is_space]\n",
    "clean_review"
   ]
  },
  {
   "cell_type": "code",
   "execution_count": 14,
   "metadata": {},
   "outputs": [
    {
     "data": {
      "text/plain": [
       "'Food good service quick pleasant place airy clean highly recommend place Great atmosphere'"
      ]
     },
     "execution_count": 14,
     "metadata": {},
     "output_type": "execute_result"
    }
   ],
   "source": [
    "# join the tokens back to string\n",
    "\" \".join(clean_review)"
   ]
  },
  {
   "cell_type": "markdown",
   "metadata": {},
   "source": [
    "### Testing if function works"
   ]
  },
  {
   "cell_type": "code",
   "execution_count": 15,
   "metadata": {},
   "outputs": [],
   "source": [
    "from src.data_processing.preprocess_reviews import remove_stop_punc"
   ]
  },
  {
   "cell_type": "code",
   "execution_count": 17,
   "metadata": {},
   "outputs": [
    {
     "name": "stderr",
     "output_type": "stream",
     "text": [
      "Preprocessing Reviews: 100%|██████████| 100/100 [00:01<00:00, 53.96it/s]\n"
     ]
    }
   ],
   "source": [
    "reviews_list = [remove_stop_punc(review, model=nlp) for review in tqdm(reviews[:100], desc =\"Preprocessing Reviews\")]"
   ]
  },
  {
   "cell_type": "code",
   "execution_count": 18,
   "metadata": {},
   "outputs": [
    {
     "data": {
      "text/plain": [
       "'Food good service quick pleasant place airy clean highly recommend place Great atmosphere'"
      ]
     },
     "execution_count": 18,
     "metadata": {},
     "output_type": "execute_result"
    }
   ],
   "source": [
    "reviews_list[0]"
   ]
  },
  {
   "cell_type": "code",
   "execution_count": 19,
   "metadata": {},
   "outputs": [
    {
     "data": {
      "text/plain": [
       "'Food was very good, service quick and pleasant.  The place was airy and clean.  I would highly recommend this place. Great atmosphere'"
      ]
     },
     "execution_count": 19,
     "metadata": {},
     "output_type": "execute_result"
    }
   ],
   "source": [
    "reviews[0]"
   ]
  },
  {
   "cell_type": "code",
   "execution_count": 21,
   "metadata": {},
   "outputs": [],
   "source": [
    "FINAL = pd.Series(reviews_list)"
   ]
  },
  {
   "cell_type": "code",
   "execution_count": 23,
   "metadata": {},
   "outputs": [
    {
     "data": {
      "text/plain": [
       "0     Food good service quick pleasant place airy cl...\n",
       "1     place special occasions birthdays anniversarie...\n",
       "2     Amazing Service waiter Tyler great helping pic...\n",
       "3     know place good reviews opened pizza favorites...\n",
       "4     Service bad food good arrived 11:30 pm sat out...\n",
       "                            ...                        \n",
       "95    Absolute Cocktails food die Staff service frie...\n",
       "96    indoor wearing tasty interesting food combinat...\n",
       "97    frustrating substitute toppings want single sl...\n",
       "98    Great lunch burgers sandwiches terrific good s...\n",
       "99    negative stars customer service girlfriend exp...\n",
       "Length: 100, dtype: object"
      ]
     },
     "execution_count": 23,
     "metadata": {},
     "output_type": "execute_result"
    }
   ],
   "source": [
    "FINAL"
   ]
  },
  {
   "cell_type": "code",
   "execution_count": 24,
   "metadata": {},
   "outputs": [
    {
     "data": {
      "text/plain": [
       "0    The food here sucks\n",
       "1       dont waste money\n",
       "dtype: object"
      ]
     },
     "execution_count": 24,
     "metadata": {},
     "output_type": "execute_result"
    }
   ],
   "source": [
    "pd.Series([\"The food here sucks\", \"dont waste money\"])"
   ]
  },
  {
   "cell_type": "code",
   "execution_count": null,
   "metadata": {},
   "outputs": [],
   "source": []
  }
 ],
 "metadata": {
  "kernelspec": {
   "display_name": "Python 3",
   "language": "python",
   "name": "python3"
  },
  "language_info": {
   "codemirror_mode": {
    "name": "ipython",
    "version": 3
   },
   "file_extension": ".py",
   "mimetype": "text/x-python",
   "name": "python",
   "nbconvert_exporter": "python",
   "pygments_lexer": "ipython3",
   "version": "3.11.0"
  },
  "orig_nbformat": 4
 },
 "nbformat": 4,
 "nbformat_minor": 2
}
