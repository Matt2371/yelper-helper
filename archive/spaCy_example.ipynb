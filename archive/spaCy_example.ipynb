{
 "cells": [
  {
   "cell_type": "markdown",
   "metadata": {},
   "source": [
    "# SpaCy Example "
   ]
  },
  {
   "cell_type": "code",
   "execution_count": 2,
   "metadata": {},
   "outputs": [],
   "source": [
    "import torch\n",
    "import torch.nn as nn\n",
    "from torch.nn.utils.rnn import pad_sequence\n",
    "import torch.optim as optim\n",
    "import matplotlib.pyplot as plt\n",
    "import numpy as np\n",
    "import pandas as pd\n",
    "from gensim.models import KeyedVectors\n",
    "import gensim.downloader as api\n",
    "from tqdm import tqdm\n",
    "from src.data_processing.process_labels import *\n",
    "from src.data_processing.process_reviews import *"
   ]
  },
  {
   "cell_type": "markdown",
   "metadata": {},
   "source": [
    "## Data processing"
   ]
  },
  {
   "cell_type": "markdown",
   "metadata": {},
   "source": [
    "### Import data"
   ]
  },
  {
   "cell_type": "code",
   "execution_count": 3,
   "metadata": {},
   "outputs": [],
   "source": [
    "# Read data\n",
    "df = pd.read_csv('data/raw_reviews/reviews_v1.csv')"
   ]
  },
  {
   "cell_type": "code",
   "execution_count": 4,
   "metadata": {},
   "outputs": [],
   "source": [
    "# Separate reviews and labels\n",
    "reviews = df.text\n",
    "food_labels = df.food\n",
    "service_labels = df.service"
   ]
  },
  {
   "cell_type": "markdown",
   "metadata": {},
   "source": [
    "### Import spaCy and loading the english pipeline"
   ]
  },
  {
   "cell_type": "code",
   "execution_count": 16,
   "metadata": {},
   "outputs": [],
   "source": [
    "# import spaCy and load the english pipeline\n",
    "import spacy\n",
    "nlp = spacy.load('en_core_web_sm')"
   ]
  },
  {
   "cell_type": "code",
   "execution_count": 17,
   "metadata": {},
   "outputs": [
    {
     "data": {
      "text/plain": [
       "'Food was very good, service quick and pleasant.  The place was airy and clean.  I would highly recommend this place. Great atmosphere'"
      ]
     },
     "execution_count": 17,
     "metadata": {},
     "output_type": "execute_result"
    }
   ],
   "source": [
    "# Use a single sentence as example\n",
    "sentence = reviews[0]\n",
    "sentence"
   ]
  },
  {
   "cell_type": "code",
   "execution_count": 20,
   "metadata": {},
   "outputs": [
    {
     "data": {
      "text/plain": [
       "spacy.tokens.doc.Doc"
      ]
     },
     "execution_count": 20,
     "metadata": {},
     "output_type": "execute_result"
    }
   ],
   "source": [
    "doc = nlp(sentence)\n",
    "type(doc)"
   ]
  },
  {
   "cell_type": "code",
   "execution_count": 19,
   "metadata": {},
   "outputs": [
    {
     "data": {
      "text/plain": [
       "Food was very good, service quick and pleasant.  The place was airy and clean.  I would highly recommend this place. Great atmosphere"
      ]
     },
     "execution_count": 19,
     "metadata": {},
     "output_type": "execute_result"
    }
   ],
   "source": [
    "doc"
   ]
  },
  {
   "cell_type": "code",
   "execution_count": 28,
   "metadata": {},
   "outputs": [
    {
     "name": "stdout",
     "output_type": "stream",
     "text": [
      "pleasant \n",
      "Type: <class 'spacy.tokens.token.Token'>\n"
     ]
    }
   ],
   "source": [
    "# Examine the tokens\n",
    "index = 8\n",
    "print(doc[index], f\"\\nType: {type(doc[index])}\")"
   ]
  },
  {
   "cell_type": "code",
   "execution_count": 29,
   "metadata": {},
   "outputs": [
    {
     "name": "stdout",
     "output_type": "stream",
     "text": [
      "Food\n",
      "good\n",
      ",\n",
      "service\n",
      "quick\n",
      "pleasant\n",
      ".\n",
      " \n",
      "place\n",
      "airy\n",
      "clean\n",
      ".\n",
      " \n",
      "highly\n",
      "recommend\n",
      "place\n",
      ".\n",
      "Great\n",
      "atmosphere\n"
     ]
    }
   ],
   "source": [
    "# Removing stop words \n",
    "for token in doc:\n",
    "    if not token.is_stop:\n",
    "        print(token)"
   ]
  },
  {
   "cell_type": "code",
   "execution_count": 33,
   "metadata": {},
   "outputs": [
    {
     "data": {
      "text/plain": [
       "[Food,\n",
       " good,\n",
       " ,,\n",
       " service,\n",
       " quick,\n",
       " pleasant,\n",
       " .,\n",
       "  ,\n",
       " place,\n",
       " airy,\n",
       " clean,\n",
       " .,\n",
       "  ,\n",
       " highly,\n",
       " recommend,\n",
       " place,\n",
       " .,\n",
       " Great,\n",
       " atmosphere]"
      ]
     },
     "execution_count": 33,
     "metadata": {},
     "output_type": "execute_result"
    }
   ],
   "source": [
    "# remove stop words using list comprehension\n",
    "trimmed_sentence = [token for token in doc if not token.is_stop]\n",
    "trimmed_sentence"
   ]
  },
  {
   "cell_type": "code",
   "execution_count": 41,
   "metadata": {},
   "outputs": [
    {
     "data": {
      "text/plain": [
       "[Food,\n",
       " was,\n",
       " very,\n",
       " good,\n",
       " service,\n",
       " quick,\n",
       " and,\n",
       " pleasant,\n",
       "  ,\n",
       " The,\n",
       " place,\n",
       " was,\n",
       " airy,\n",
       " and,\n",
       " clean,\n",
       "  ,\n",
       " I,\n",
       " would,\n",
       " highly,\n",
       " recommend,\n",
       " this,\n",
       " place,\n",
       " Great,\n",
       " atmosphere]"
      ]
     },
     "execution_count": 41,
     "metadata": {},
     "output_type": "execute_result"
    }
   ],
   "source": [
    "# remove punctuation\n",
    "trimmed_sentence2 = [token for token in doc if not token.is_punct]\n",
    "trimmed_sentence2"
   ]
  },
  {
   "cell_type": "code",
   "execution_count": 42,
   "metadata": {},
   "outputs": [
    {
     "data": {
      "text/plain": [
       "[Food,\n",
       " good,\n",
       " service,\n",
       " quick,\n",
       " pleasant,\n",
       "  ,\n",
       " place,\n",
       " airy,\n",
       " clean,\n",
       "  ,\n",
       " highly,\n",
       " recommend,\n",
       " place,\n",
       " Great,\n",
       " atmosphere]"
      ]
     },
     "execution_count": 42,
     "metadata": {},
     "output_type": "execute_result"
    }
   ],
   "source": [
    "# remove both punctuation and stop words\n",
    "clean_sentence = [token for token in doc if not token.is_punct and not token.is_stop]\n",
    "clean_sentence"
   ]
  },
  {
   "cell_type": "code",
   "execution_count": null,
   "metadata": {},
   "outputs": [],
   "source": []
  }
 ],
 "metadata": {
  "kernelspec": {
   "display_name": "Python 3",
   "language": "python",
   "name": "python3"
  },
  "language_info": {
   "codemirror_mode": {
    "name": "ipython",
    "version": 3
   },
   "file_extension": ".py",
   "mimetype": "text/x-python",
   "name": "python",
   "nbconvert_exporter": "python",
   "pygments_lexer": "ipython3",
   "version": "3.11.0"
  },
  "orig_nbformat": 4
 },
 "nbformat": 4,
 "nbformat_minor": 2
}
