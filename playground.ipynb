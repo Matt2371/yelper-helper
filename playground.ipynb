{
 "cells": [
  {
   "cell_type": "code",
   "execution_count": 1,
   "metadata": {},
   "outputs": [],
   "source": [
    "import torch\n",
    "import torch.nn as nn\n",
    "from torch.nn.utils.rnn import pad_sequence\n",
    "import matplotlib.pyplot as plt\n",
    "import numpy as np\n",
    "import pandas as pd\n",
    "from gensim.models import KeyedVectors\n",
    "import gensim.downloader as api\n",
    "from tqdm import tqdm"
   ]
  },
  {
   "cell_type": "markdown",
   "metadata": {},
   "source": [
    "### Tokenize Reviews\n",
    "Tokensize each review and convert them to pre-trained word2vec embeddings"
   ]
  },
  {
   "cell_type": "code",
   "execution_count": 2,
   "metadata": {},
   "outputs": [],
   "source": [
    "# Read data\n",
    "df = pd.read_csv('data/raw_reviews/reviews_v1.csv')"
   ]
  },
  {
   "cell_type": "code",
   "execution_count": 3,
   "metadata": {},
   "outputs": [],
   "source": [
    "# Separate reviews and labels\n",
    "reviews = df.text\n",
    "food_labels = df.food\n",
    "service_labels = df.service"
   ]
  },
  {
   "cell_type": "code",
   "execution_count": 4,
   "metadata": {},
   "outputs": [],
   "source": [
    "# Tokenize reviews\n",
    "from src.data_processing.word_tokenizer import basic_tokenizer\n",
    "review_list = [basic_tokenizer(review) for review in reviews]"
   ]
  },
  {
   "cell_type": "code",
   "execution_count": 5,
   "metadata": {},
   "outputs": [],
   "source": [
    "# Load word2vec model\n",
    "model = KeyedVectors.load('word2vec/word2vec-google-news-300.model')"
   ]
  },
  {
   "cell_type": "code",
   "execution_count": 6,
   "metadata": {},
   "outputs": [],
   "source": [
    "from src.data_processing.word_tokenizer import batch_embedding"
   ]
  },
  {
   "cell_type": "code",
   "execution_count": 7,
   "metadata": {},
   "outputs": [
    {
     "name": "stderr",
     "output_type": "stream",
     "text": [
      "Fetching review embeddings: 100%|██████████| 9998/9998 [00:09<00:00, 1084.65it/s]\n"
     ]
    },
    {
     "data": {
      "text/plain": [
       "torch.Size([9998, 992, 300])"
      ]
     },
     "execution_count": 7,
     "metadata": {},
     "output_type": "execute_result"
    }
   ],
   "source": [
    "batch_embedding(review_list, model).shape"
   ]
  },
  {
   "cell_type": "code",
   "execution_count": null,
   "metadata": {},
   "outputs": [],
   "source": [
    "# Tokensize each review and convert to word2vec\n",
    "reviews_all = []\n",
    "for review in tqdm(X, desc='Processing reviews: '):\n",
    "    review_embeddings = []\n",
    "    for word in review:\n",
    "        try:\n",
    "            review_embeddings.append(model[word])\n",
    "        except KeyError: # for unknown word, use vector of zeros\n",
    "            review_embeddings.append(np.zeros(300))\n",
    "            \n",
    "    reviews_all.append(torch.tensor(review_embeddings))"
   ]
  },
  {
   "cell_type": "code",
   "execution_count": null,
   "metadata": {},
   "outputs": [],
   "source": [
    "# Use PyTorch pad_sequence() so that all review sequences are the same length\n",
    "# Output is shape (# reviews, len longest review, dimension embedding (300))\n",
    "padded_reviews = pad_sequence(reviews_all, padding_value = -1, batch_first=True) "
   ]
  }
 ],
 "metadata": {
  "kernelspec": {
   "display_name": "Python 3",
   "language": "python",
   "name": "python3"
  },
  "language_info": {
   "codemirror_mode": {
    "name": "ipython",
    "version": 3
   },
   "file_extension": ".py",
   "mimetype": "text/x-python",
   "name": "python",
   "nbconvert_exporter": "python",
   "pygments_lexer": "ipython3",
   "version": "3.11.0"
  },
  "orig_nbformat": 4
 },
 "nbformat": 4,
 "nbformat_minor": 2
}
