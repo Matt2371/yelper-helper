{
 "cells": [
  {
   "cell_type": "code",
   "execution_count": 2,
   "metadata": {},
   "outputs": [],
   "source": [
    "import torch\n",
    "import torch.nn as nn\n",
    "from torch.nn.utils.rnn import pad_sequence\n",
    "import matplotlib.pyplot as plt\n",
    "import numpy as np\n",
    "import pandas as pd\n",
    "from gensim.models import KeyedVectors\n",
    "import gensim.downloader as api\n",
    "from tqdm import tqdm"
   ]
  },
  {
   "cell_type": "markdown",
   "metadata": {},
   "source": [
    "### Tokenize Reviews\n",
    "Tokensize each review and convert them to pre-trained word2vec embeddings"
   ]
  },
  {
   "cell_type": "code",
   "execution_count": 3,
   "metadata": {},
   "outputs": [],
   "source": [
    "# Read reviews and labels\n",
    "df = pd.read_csv('data/reviews_v1.csv')\n",
    "X = df['text'].to_list()\n",
    "y = df['food'].values"
   ]
  },
  {
   "cell_type": "code",
   "execution_count": 4,
   "metadata": {},
   "outputs": [],
   "source": [
    "# # Download word2vec model\n",
    "# model = api.load('word2vec-google-news-300')"
   ]
  },
  {
   "cell_type": "code",
   "execution_count": 5,
   "metadata": {},
   "outputs": [],
   "source": [
    "# # Save model\n",
    "# model.save('word2vec/word2vec-google-news-300.model')"
   ]
  },
  {
   "cell_type": "code",
   "execution_count": 6,
   "metadata": {},
   "outputs": [],
   "source": [
    "# Load word2vec model\n",
    "model = KeyedVectors.load('word2vec/word2vec-google-news-300.model')"
   ]
  },
  {
   "cell_type": "code",
   "execution_count": 1,
   "metadata": {},
   "outputs": [],
   "source": [
    "## FIXME: properly tokenize words "
   ]
  },
  {
   "cell_type": "code",
   "execution_count": 27,
   "metadata": {},
   "outputs": [
    {
     "name": "stderr",
     "output_type": "stream",
     "text": [
      "Processing reviews:   0%|          | 0/10000 [00:00<?, ?it/s]C:\\Users\\mattc\\AppData\\Local\\Temp\\ipykernel_11600\\1497515387.py:11: UserWarning: Creating a tensor from a list of numpy.ndarrays is extremely slow. Please consider converting the list to a single numpy.ndarray with numpy.array() before converting to a tensor. (Triggered internally at ..\\torch\\csrc\\utils\\tensor_new.cpp:248.)\n",
      "  reviews_all.append(torch.tensor(review_embeddings))\n",
      "Processing reviews: 100%|██████████| 10000/10000 [02:27<00:00, 67.92it/s]\n"
     ]
    }
   ],
   "source": [
    "# Tokensize each review and convert to word2vec\n",
    "reviews_all = []\n",
    "for review in tqdm(X, desc='Processing reviews: '):\n",
    "    review_embeddings = []\n",
    "    for word in review:\n",
    "        try:\n",
    "            review_embeddings.append(model[word])\n",
    "        except KeyError: # for unknown word, use vector of zeros\n",
    "            review_embeddings.append(np.zeros(300))\n",
    "            \n",
    "    reviews_all.append(torch.tensor(review_embeddings))"
   ]
  },
  {
   "cell_type": "code",
   "execution_count": 28,
   "metadata": {},
   "outputs": [
    {
     "ename": "RuntimeError",
     "evalue": "[enforce fail at ..\\c10\\core\\impl\\alloc_cpu.cpp:72] data. DefaultCPUAllocator: not enough memory: you tried to allocate 119952000000 bytes.",
     "output_type": "error",
     "traceback": [
      "\u001b[1;31m---------------------------------------------------------------------------\u001b[0m",
      "\u001b[1;31mRuntimeError\u001b[0m                              Traceback (most recent call last)",
      "Cell \u001b[1;32mIn[28], line 3\u001b[0m\n\u001b[0;32m      1\u001b[0m \u001b[39m# Use PyTorch pad_sequence() so that all review sequences are the same length\u001b[39;00m\n\u001b[0;32m      2\u001b[0m \u001b[39m# Output is shape (# reviews, len longest review, dimension embedding (300))\u001b[39;00m\n\u001b[1;32m----> 3\u001b[0m padded_reviews \u001b[39m=\u001b[39m pad_sequence(reviews_all, padding_value \u001b[39m=\u001b[39;49m \u001b[39m-\u001b[39;49m\u001b[39m1\u001b[39;49m, batch_first\u001b[39m=\u001b[39;49m\u001b[39mTrue\u001b[39;49;00m) \n",
      "File \u001b[1;32mc:\\Users\\mattc\\AppData\\Local\\Programs\\Python\\Python310\\lib\\site-packages\\torch\\nn\\utils\\rnn.py:399\u001b[0m, in \u001b[0;36mpad_sequence\u001b[1;34m(sequences, batch_first, padding_value)\u001b[0m\n\u001b[0;32m    395\u001b[0m         sequences \u001b[39m=\u001b[39m sequences\u001b[39m.\u001b[39munbind(\u001b[39m0\u001b[39m)\n\u001b[0;32m    397\u001b[0m \u001b[39m# assuming trailing dimensions and type of all the Tensors\u001b[39;00m\n\u001b[0;32m    398\u001b[0m \u001b[39m# in sequences are same and fetching those from sequences[0]\u001b[39;00m\n\u001b[1;32m--> 399\u001b[0m \u001b[39mreturn\u001b[39;00m torch\u001b[39m.\u001b[39;49m_C\u001b[39m.\u001b[39;49m_nn\u001b[39m.\u001b[39;49mpad_sequence(sequences, batch_first, padding_value)\n",
      "\u001b[1;31mRuntimeError\u001b[0m: [enforce fail at ..\\c10\\core\\impl\\alloc_cpu.cpp:72] data. DefaultCPUAllocator: not enough memory: you tried to allocate 119952000000 bytes."
     ]
    }
   ],
   "source": [
    "# Use PyTorch pad_sequence() so that all review sequences are the same length\n",
    "# Output is shape (# reviews, len longest review, dimension embedding (300))\n",
    "padded_reviews = pad_sequence(reviews_all, padding_value = -1, batch_first=True) "
   ]
  }
 ],
 "metadata": {
  "kernelspec": {
   "display_name": "Python 3",
   "language": "python",
   "name": "python3"
  },
  "language_info": {
   "codemirror_mode": {
    "name": "ipython",
    "version": 3
   },
   "file_extension": ".py",
   "mimetype": "text/x-python",
   "name": "python",
   "nbconvert_exporter": "python",
   "pygments_lexer": "ipython3",
   "version": "3.10.5"
  },
  "orig_nbformat": 4
 },
 "nbformat": 4,
 "nbformat_minor": 2
}
